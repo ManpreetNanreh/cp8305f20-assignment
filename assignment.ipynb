{
  "nbformat": 4,
  "nbformat_minor": 0,
  "metadata": {
    "colab": {
      "name": "assignment.ipynb",
      "provenance": [],
      "collapsed_sections": []
    },
    "kernelspec": {
      "name": "python3",
      "display_name": "Python 3"
    }
  },
  "cells": [
    {
      "cell_type": "code",
      "metadata": {
        "colab": {
          "base_uri": "https://localhost:8080/"
        },
        "id": "QSbg9bzrEm4i",
        "outputId": "b4792483-d5c9-4100-92cf-2507acff815e"
      },
      "source": [
        "from google.colab import drive\n",
        "drive.mount('/content/drive')"
      ],
      "execution_count": null,
      "outputs": [
        {
          "output_type": "stream",
          "text": [
            "Drive already mounted at /content/drive; to attempt to forcibly remount, call drive.mount(\"/content/drive\", force_remount=True).\n"
          ],
          "name": "stdout"
        }
      ]
    },
    {
      "cell_type": "markdown",
      "metadata": {
        "id": "SSwwOQiLRRVx"
      },
      "source": [
        "https://archive.ics.uci.edu/ml/datasets/Heart+failure+clinical+records"
      ]
    },
    {
      "cell_type": "code",
      "metadata": {
        "id": "5aRbTuhs_AQe"
      },
      "source": [
        "path = '/content/drive/MyDrive/Knowledge Discovery/assignment/'"
      ],
      "execution_count": null,
      "outputs": []
    },
    {
      "cell_type": "code",
      "metadata": {
        "id": "iFg3ae5kE21d",
        "colab": {
          "base_uri": "https://localhost:8080/"
        },
        "outputId": "adc5ec0b-d6a3-4acf-d90c-6f5d17534aa3"
      },
      "source": [
        "import pandas as pd\n",
        "import numpy as np\n",
        "import matplotlib.pyplot as plt\n",
        "import seaborn as sns\n",
        "from sklearn.preprocessing import StandardScaler\n",
        "from sklearn.model_selection import KFold\n",
        "from sklearn.naive_bayes import GaussianNB\n",
        "from sklearn.linear_model import LogisticRegression\n",
        "from sklearn.tree import DecisionTreeClassifier\n",
        "from sklearn.ensemble import RandomForestClassifier\n",
        "from sklearn.svm import SVC\n",
        "from sklearn.metrics import accuracy_score, recall_score, precision_score, f1_score\n",
        "from sklearn.feature_selection import chi2\n",
        "from mlxtend.feature_selection import SequentialFeatureSelector, ExhaustiveFeatureSelector"
      ],
      "execution_count": null,
      "outputs": [
        {
          "output_type": "stream",
          "text": [
            "/usr/local/lib/python3.6/dist-packages/sklearn/externals/joblib/__init__.py:15: FutureWarning: sklearn.externals.joblib is deprecated in 0.21 and will be removed in 0.23. Please import this functionality directly from joblib, which can be installed with: pip install joblib. If this warning is raised when loading pickled models, you may need to re-serialize those models with scikit-learn 0.21+.\n",
            "  warnings.warn(msg, category=FutureWarning)\n"
          ],
          "name": "stderr"
        }
      ]
    },
    {
      "cell_type": "markdown",
      "metadata": {
        "id": "CSSZi9PiKyLz"
      },
      "source": [
        "# Load the Data"
      ]
    },
    {
      "cell_type": "code",
      "metadata": {
        "id": "ASIr3M-cE8YH"
      },
      "source": [
        "data = pd.read_csv(path + 'heart_failure_clinical_records_dataset.csv')"
      ],
      "execution_count": null,
      "outputs": []
    },
    {
      "cell_type": "code",
      "metadata": {
        "colab": {
          "base_uri": "https://localhost:8080/",
          "height": 424
        },
        "id": "3F3aiMhlFbhH",
        "outputId": "a57af6e5-7d03-43c3-b65b-d0188d98133a"
      },
      "source": [
        "data"
      ],
      "execution_count": null,
      "outputs": [
        {
          "output_type": "execute_result",
          "data": {
            "text/html": [
              "<div>\n",
              "<style scoped>\n",
              "    .dataframe tbody tr th:only-of-type {\n",
              "        vertical-align: middle;\n",
              "    }\n",
              "\n",
              "    .dataframe tbody tr th {\n",
              "        vertical-align: top;\n",
              "    }\n",
              "\n",
              "    .dataframe thead th {\n",
              "        text-align: right;\n",
              "    }\n",
              "</style>\n",
              "<table border=\"1\" class=\"dataframe\">\n",
              "  <thead>\n",
              "    <tr style=\"text-align: right;\">\n",
              "      <th></th>\n",
              "      <th>age</th>\n",
              "      <th>anaemia</th>\n",
              "      <th>creatinine_phosphokinase</th>\n",
              "      <th>diabetes</th>\n",
              "      <th>ejection_fraction</th>\n",
              "      <th>high_blood_pressure</th>\n",
              "      <th>platelets</th>\n",
              "      <th>serum_creatinine</th>\n",
              "      <th>serum_sodium</th>\n",
              "      <th>sex</th>\n",
              "      <th>smoking</th>\n",
              "      <th>time</th>\n",
              "      <th>DEATH_EVENT</th>\n",
              "    </tr>\n",
              "  </thead>\n",
              "  <tbody>\n",
              "    <tr>\n",
              "      <th>0</th>\n",
              "      <td>75.0</td>\n",
              "      <td>0</td>\n",
              "      <td>582</td>\n",
              "      <td>0</td>\n",
              "      <td>20</td>\n",
              "      <td>1</td>\n",
              "      <td>265000.00</td>\n",
              "      <td>1.9</td>\n",
              "      <td>130</td>\n",
              "      <td>1</td>\n",
              "      <td>0</td>\n",
              "      <td>4</td>\n",
              "      <td>1</td>\n",
              "    </tr>\n",
              "    <tr>\n",
              "      <th>1</th>\n",
              "      <td>55.0</td>\n",
              "      <td>0</td>\n",
              "      <td>7861</td>\n",
              "      <td>0</td>\n",
              "      <td>38</td>\n",
              "      <td>0</td>\n",
              "      <td>263358.03</td>\n",
              "      <td>1.1</td>\n",
              "      <td>136</td>\n",
              "      <td>1</td>\n",
              "      <td>0</td>\n",
              "      <td>6</td>\n",
              "      <td>1</td>\n",
              "    </tr>\n",
              "    <tr>\n",
              "      <th>2</th>\n",
              "      <td>65.0</td>\n",
              "      <td>0</td>\n",
              "      <td>146</td>\n",
              "      <td>0</td>\n",
              "      <td>20</td>\n",
              "      <td>0</td>\n",
              "      <td>162000.00</td>\n",
              "      <td>1.3</td>\n",
              "      <td>129</td>\n",
              "      <td>1</td>\n",
              "      <td>1</td>\n",
              "      <td>7</td>\n",
              "      <td>1</td>\n",
              "    </tr>\n",
              "    <tr>\n",
              "      <th>3</th>\n",
              "      <td>50.0</td>\n",
              "      <td>1</td>\n",
              "      <td>111</td>\n",
              "      <td>0</td>\n",
              "      <td>20</td>\n",
              "      <td>0</td>\n",
              "      <td>210000.00</td>\n",
              "      <td>1.9</td>\n",
              "      <td>137</td>\n",
              "      <td>1</td>\n",
              "      <td>0</td>\n",
              "      <td>7</td>\n",
              "      <td>1</td>\n",
              "    </tr>\n",
              "    <tr>\n",
              "      <th>4</th>\n",
              "      <td>65.0</td>\n",
              "      <td>1</td>\n",
              "      <td>160</td>\n",
              "      <td>1</td>\n",
              "      <td>20</td>\n",
              "      <td>0</td>\n",
              "      <td>327000.00</td>\n",
              "      <td>2.7</td>\n",
              "      <td>116</td>\n",
              "      <td>0</td>\n",
              "      <td>0</td>\n",
              "      <td>8</td>\n",
              "      <td>1</td>\n",
              "    </tr>\n",
              "    <tr>\n",
              "      <th>...</th>\n",
              "      <td>...</td>\n",
              "      <td>...</td>\n",
              "      <td>...</td>\n",
              "      <td>...</td>\n",
              "      <td>...</td>\n",
              "      <td>...</td>\n",
              "      <td>...</td>\n",
              "      <td>...</td>\n",
              "      <td>...</td>\n",
              "      <td>...</td>\n",
              "      <td>...</td>\n",
              "      <td>...</td>\n",
              "      <td>...</td>\n",
              "    </tr>\n",
              "    <tr>\n",
              "      <th>294</th>\n",
              "      <td>62.0</td>\n",
              "      <td>0</td>\n",
              "      <td>61</td>\n",
              "      <td>1</td>\n",
              "      <td>38</td>\n",
              "      <td>1</td>\n",
              "      <td>155000.00</td>\n",
              "      <td>1.1</td>\n",
              "      <td>143</td>\n",
              "      <td>1</td>\n",
              "      <td>1</td>\n",
              "      <td>270</td>\n",
              "      <td>0</td>\n",
              "    </tr>\n",
              "    <tr>\n",
              "      <th>295</th>\n",
              "      <td>55.0</td>\n",
              "      <td>0</td>\n",
              "      <td>1820</td>\n",
              "      <td>0</td>\n",
              "      <td>38</td>\n",
              "      <td>0</td>\n",
              "      <td>270000.00</td>\n",
              "      <td>1.2</td>\n",
              "      <td>139</td>\n",
              "      <td>0</td>\n",
              "      <td>0</td>\n",
              "      <td>271</td>\n",
              "      <td>0</td>\n",
              "    </tr>\n",
              "    <tr>\n",
              "      <th>296</th>\n",
              "      <td>45.0</td>\n",
              "      <td>0</td>\n",
              "      <td>2060</td>\n",
              "      <td>1</td>\n",
              "      <td>60</td>\n",
              "      <td>0</td>\n",
              "      <td>742000.00</td>\n",
              "      <td>0.8</td>\n",
              "      <td>138</td>\n",
              "      <td>0</td>\n",
              "      <td>0</td>\n",
              "      <td>278</td>\n",
              "      <td>0</td>\n",
              "    </tr>\n",
              "    <tr>\n",
              "      <th>297</th>\n",
              "      <td>45.0</td>\n",
              "      <td>0</td>\n",
              "      <td>2413</td>\n",
              "      <td>0</td>\n",
              "      <td>38</td>\n",
              "      <td>0</td>\n",
              "      <td>140000.00</td>\n",
              "      <td>1.4</td>\n",
              "      <td>140</td>\n",
              "      <td>1</td>\n",
              "      <td>1</td>\n",
              "      <td>280</td>\n",
              "      <td>0</td>\n",
              "    </tr>\n",
              "    <tr>\n",
              "      <th>298</th>\n",
              "      <td>50.0</td>\n",
              "      <td>0</td>\n",
              "      <td>196</td>\n",
              "      <td>0</td>\n",
              "      <td>45</td>\n",
              "      <td>0</td>\n",
              "      <td>395000.00</td>\n",
              "      <td>1.6</td>\n",
              "      <td>136</td>\n",
              "      <td>1</td>\n",
              "      <td>1</td>\n",
              "      <td>285</td>\n",
              "      <td>0</td>\n",
              "    </tr>\n",
              "  </tbody>\n",
              "</table>\n",
              "<p>299 rows × 13 columns</p>\n",
              "</div>"
            ],
            "text/plain": [
              "      age  anaemia  creatinine_phosphokinase  ...  smoking  time  DEATH_EVENT\n",
              "0    75.0        0                       582  ...        0     4            1\n",
              "1    55.0        0                      7861  ...        0     6            1\n",
              "2    65.0        0                       146  ...        1     7            1\n",
              "3    50.0        1                       111  ...        0     7            1\n",
              "4    65.0        1                       160  ...        0     8            1\n",
              "..    ...      ...                       ...  ...      ...   ...          ...\n",
              "294  62.0        0                        61  ...        1   270            0\n",
              "295  55.0        0                      1820  ...        0   271            0\n",
              "296  45.0        0                      2060  ...        0   278            0\n",
              "297  45.0        0                      2413  ...        1   280            0\n",
              "298  50.0        0                       196  ...        1   285            0\n",
              "\n",
              "[299 rows x 13 columns]"
            ]
          },
          "metadata": {
            "tags": []
          },
          "execution_count": 5
        }
      ]
    },
    {
      "cell_type": "code",
      "metadata": {
        "colab": {
          "base_uri": "https://localhost:8080/",
          "height": 320
        },
        "id": "4WaZAtwTf8mb",
        "outputId": "959c7052-fa6d-4e61-9b38-97780faad709"
      },
      "source": [
        "data.describe()"
      ],
      "execution_count": null,
      "outputs": [
        {
          "output_type": "execute_result",
          "data": {
            "text/html": [
              "<div>\n",
              "<style scoped>\n",
              "    .dataframe tbody tr th:only-of-type {\n",
              "        vertical-align: middle;\n",
              "    }\n",
              "\n",
              "    .dataframe tbody tr th {\n",
              "        vertical-align: top;\n",
              "    }\n",
              "\n",
              "    .dataframe thead th {\n",
              "        text-align: right;\n",
              "    }\n",
              "</style>\n",
              "<table border=\"1\" class=\"dataframe\">\n",
              "  <thead>\n",
              "    <tr style=\"text-align: right;\">\n",
              "      <th></th>\n",
              "      <th>age</th>\n",
              "      <th>anaemia</th>\n",
              "      <th>creatinine_phosphokinase</th>\n",
              "      <th>diabetes</th>\n",
              "      <th>ejection_fraction</th>\n",
              "      <th>high_blood_pressure</th>\n",
              "      <th>platelets</th>\n",
              "      <th>serum_creatinine</th>\n",
              "      <th>serum_sodium</th>\n",
              "      <th>sex</th>\n",
              "      <th>smoking</th>\n",
              "      <th>time</th>\n",
              "      <th>DEATH_EVENT</th>\n",
              "    </tr>\n",
              "  </thead>\n",
              "  <tbody>\n",
              "    <tr>\n",
              "      <th>count</th>\n",
              "      <td>299.000000</td>\n",
              "      <td>299.000000</td>\n",
              "      <td>299.000000</td>\n",
              "      <td>299.000000</td>\n",
              "      <td>299.000000</td>\n",
              "      <td>299.000000</td>\n",
              "      <td>299.000000</td>\n",
              "      <td>299.00000</td>\n",
              "      <td>299.000000</td>\n",
              "      <td>299.000000</td>\n",
              "      <td>299.00000</td>\n",
              "      <td>299.000000</td>\n",
              "      <td>299.00000</td>\n",
              "    </tr>\n",
              "    <tr>\n",
              "      <th>mean</th>\n",
              "      <td>60.833893</td>\n",
              "      <td>0.431438</td>\n",
              "      <td>581.839465</td>\n",
              "      <td>0.418060</td>\n",
              "      <td>38.083612</td>\n",
              "      <td>0.351171</td>\n",
              "      <td>263358.029264</td>\n",
              "      <td>1.39388</td>\n",
              "      <td>136.625418</td>\n",
              "      <td>0.648829</td>\n",
              "      <td>0.32107</td>\n",
              "      <td>130.260870</td>\n",
              "      <td>0.32107</td>\n",
              "    </tr>\n",
              "    <tr>\n",
              "      <th>std</th>\n",
              "      <td>11.894809</td>\n",
              "      <td>0.496107</td>\n",
              "      <td>970.287881</td>\n",
              "      <td>0.494067</td>\n",
              "      <td>11.834841</td>\n",
              "      <td>0.478136</td>\n",
              "      <td>97804.236869</td>\n",
              "      <td>1.03451</td>\n",
              "      <td>4.412477</td>\n",
              "      <td>0.478136</td>\n",
              "      <td>0.46767</td>\n",
              "      <td>77.614208</td>\n",
              "      <td>0.46767</td>\n",
              "    </tr>\n",
              "    <tr>\n",
              "      <th>min</th>\n",
              "      <td>40.000000</td>\n",
              "      <td>0.000000</td>\n",
              "      <td>23.000000</td>\n",
              "      <td>0.000000</td>\n",
              "      <td>14.000000</td>\n",
              "      <td>0.000000</td>\n",
              "      <td>25100.000000</td>\n",
              "      <td>0.50000</td>\n",
              "      <td>113.000000</td>\n",
              "      <td>0.000000</td>\n",
              "      <td>0.00000</td>\n",
              "      <td>4.000000</td>\n",
              "      <td>0.00000</td>\n",
              "    </tr>\n",
              "    <tr>\n",
              "      <th>25%</th>\n",
              "      <td>51.000000</td>\n",
              "      <td>0.000000</td>\n",
              "      <td>116.500000</td>\n",
              "      <td>0.000000</td>\n",
              "      <td>30.000000</td>\n",
              "      <td>0.000000</td>\n",
              "      <td>212500.000000</td>\n",
              "      <td>0.90000</td>\n",
              "      <td>134.000000</td>\n",
              "      <td>0.000000</td>\n",
              "      <td>0.00000</td>\n",
              "      <td>73.000000</td>\n",
              "      <td>0.00000</td>\n",
              "    </tr>\n",
              "    <tr>\n",
              "      <th>50%</th>\n",
              "      <td>60.000000</td>\n",
              "      <td>0.000000</td>\n",
              "      <td>250.000000</td>\n",
              "      <td>0.000000</td>\n",
              "      <td>38.000000</td>\n",
              "      <td>0.000000</td>\n",
              "      <td>262000.000000</td>\n",
              "      <td>1.10000</td>\n",
              "      <td>137.000000</td>\n",
              "      <td>1.000000</td>\n",
              "      <td>0.00000</td>\n",
              "      <td>115.000000</td>\n",
              "      <td>0.00000</td>\n",
              "    </tr>\n",
              "    <tr>\n",
              "      <th>75%</th>\n",
              "      <td>70.000000</td>\n",
              "      <td>1.000000</td>\n",
              "      <td>582.000000</td>\n",
              "      <td>1.000000</td>\n",
              "      <td>45.000000</td>\n",
              "      <td>1.000000</td>\n",
              "      <td>303500.000000</td>\n",
              "      <td>1.40000</td>\n",
              "      <td>140.000000</td>\n",
              "      <td>1.000000</td>\n",
              "      <td>1.00000</td>\n",
              "      <td>203.000000</td>\n",
              "      <td>1.00000</td>\n",
              "    </tr>\n",
              "    <tr>\n",
              "      <th>max</th>\n",
              "      <td>95.000000</td>\n",
              "      <td>1.000000</td>\n",
              "      <td>7861.000000</td>\n",
              "      <td>1.000000</td>\n",
              "      <td>80.000000</td>\n",
              "      <td>1.000000</td>\n",
              "      <td>850000.000000</td>\n",
              "      <td>9.40000</td>\n",
              "      <td>148.000000</td>\n",
              "      <td>1.000000</td>\n",
              "      <td>1.00000</td>\n",
              "      <td>285.000000</td>\n",
              "      <td>1.00000</td>\n",
              "    </tr>\n",
              "  </tbody>\n",
              "</table>\n",
              "</div>"
            ],
            "text/plain": [
              "              age     anaemia  ...        time  DEATH_EVENT\n",
              "count  299.000000  299.000000  ...  299.000000    299.00000\n",
              "mean    60.833893    0.431438  ...  130.260870      0.32107\n",
              "std     11.894809    0.496107  ...   77.614208      0.46767\n",
              "min     40.000000    0.000000  ...    4.000000      0.00000\n",
              "25%     51.000000    0.000000  ...   73.000000      0.00000\n",
              "50%     60.000000    0.000000  ...  115.000000      0.00000\n",
              "75%     70.000000    1.000000  ...  203.000000      1.00000\n",
              "max     95.000000    1.000000  ...  285.000000      1.00000\n",
              "\n",
              "[8 rows x 13 columns]"
            ]
          },
          "metadata": {
            "tags": []
          },
          "execution_count": 6
        }
      ]
    },
    {
      "cell_type": "markdown",
      "metadata": {
        "id": "SQZbhC9lSN7t"
      },
      "source": [
        "The description of the features of the dataset is as follows: (https://bmcmedinformdecismak.biomedcentral.com/articles/10.1186/s12911-020-1023-5/tables/1)\n",
        "\n",
        "Feature | Explanation\n",
        "--------|--------------\n",
        "Age | The age of the patient\n",
        "Anaemia | The decrease of red blood cells or hemoglobin \n",
        "High blood pressure | Whether a patient has hypertension\n",
        "Creatinine phosphokinase | Level of CPK enzyme in the blood\n",
        "Diabetes | Whether a patient has diabetes\n",
        "Ejection fraction | Percentage of blood leaving the heart at each contraction\n",
        "Sex | Whether a person is female or male\n",
        "Platelets | Platelets in the blood\n",
        "Serum creatinine | The level of creatinine in the blood\n",
        "Serum sodium | The level of sodium in the blood\n",
        "Smoking | Whether the patient smokes\n",
        "Time | The follow-up period\n",
        "Death event | The target value explaining whether the patient died during the follow-up period"
      ]
    },
    {
      "cell_type": "markdown",
      "metadata": {
        "id": "qNapF9WMG6vj"
      },
      "source": [
        "For categorical features, the values have the following meaning: (https://bmcmedinformdecismak.biomedcentral.com/articles/10.1186/s12911-020-1023-5/tables/2)\n",
        "\n",
        "Feature |  Explanation\n",
        "--------|-------------\n",
        "Anaemia | 0 -> False, 1 -> True\n",
        "High blood pressure | 0 -> False, 1 -> True\n",
        "Diabetes | 0 -> False, 1 -> True\n",
        "Sex | 0 -> woman, 1 -> man\n",
        "Smoking | 0 -> False, 1 -> True"
      ]
    },
    {
      "cell_type": "markdown",
      "metadata": {
        "id": "0GpKdpBaKuEr"
      },
      "source": [
        "# Data Imputation"
      ]
    },
    {
      "cell_type": "code",
      "metadata": {
        "id": "xaDqlqymRAcI"
      },
      "source": [
        "continuous_features = ['age', \n",
        "                       'creatinine_phosphokinase', \n",
        "                       'ejection_fraction', \n",
        "                       'platelets',\n",
        "                       'serum_creatinine', \n",
        "                       'serum_sodium', \n",
        "                       'time']"
      ],
      "execution_count": null,
      "outputs": []
    },
    {
      "cell_type": "code",
      "metadata": {
        "colab": {
          "base_uri": "https://localhost:8080/"
        },
        "id": "i486RlT8K33x",
        "outputId": "10d24735-3bc1-49f8-e161-8446aedb1358"
      },
      "source": [
        "data.isna().sum()"
      ],
      "execution_count": null,
      "outputs": [
        {
          "output_type": "execute_result",
          "data": {
            "text/plain": [
              "age                         0\n",
              "anaemia                     0\n",
              "creatinine_phosphokinase    0\n",
              "diabetes                    0\n",
              "ejection_fraction           0\n",
              "high_blood_pressure         0\n",
              "platelets                   0\n",
              "serum_creatinine            0\n",
              "serum_sodium                0\n",
              "sex                         0\n",
              "smoking                     0\n",
              "time                        0\n",
              "DEATH_EVENT                 0\n",
              "dtype: int64"
            ]
          },
          "metadata": {
            "tags": []
          },
          "execution_count": 8
        }
      ]
    },
    {
      "cell_type": "markdown",
      "metadata": {
        "id": "neV7hLzeLAz6"
      },
      "source": [
        "Since none of the feature have any missing data, then there is no need to perform data imputation."
      ]
    },
    {
      "cell_type": "markdown",
      "metadata": {
        "id": "FgBjFfj1Lgsc"
      },
      "source": [
        "# Split the data into input and target, Standardize the continuous features"
      ]
    },
    {
      "cell_type": "code",
      "metadata": {
        "id": "_YLhgSfvPqjR"
      },
      "source": [
        "scaled_data = data.copy()\n",
        "scaler = StandardScaler()"
      ],
      "execution_count": null,
      "outputs": []
    },
    {
      "cell_type": "code",
      "metadata": {
        "id": "h8CTCzzqPv6b"
      },
      "source": [
        "# Standardize the continuous features\n",
        "for feature in continuous_features:\n",
        "  scaled_data[feature] = scaler.fit_transform(data[feature].values.reshape(-1,1))"
      ],
      "execution_count": null,
      "outputs": []
    },
    {
      "cell_type": "code",
      "metadata": {
        "id": "t8DRTBi0RqU-"
      },
      "source": [
        "# split the scaled data into input and target vectors\n",
        "Y = scaled_data['DEATH_EVENT']\n",
        "X = scaled_data.drop('DEATH_EVENT', axis=1)"
      ],
      "execution_count": null,
      "outputs": []
    },
    {
      "cell_type": "code",
      "metadata": {
        "id": "hoUZ_RZYtNYi"
      },
      "source": [
        "# This function will perform 10 fold cross validation on the provided model.\n",
        "def perform_ten_fold_cv(model, x_data, y_data):\n",
        "  cv = KFold(n_splits=10, random_state=42, shuffle=True)\n",
        "\n",
        "  metrics = {'acc': [], \n",
        "             'pre': [],\n",
        "             'rec': [],\n",
        "             'f1': []}\n",
        "\n",
        "  for train_indices, test_indices in cv.split(x_data):\n",
        "    x_train = x_data.iloc[train_indices]\n",
        "    y_train = y_data.iloc[train_indices]\n",
        "\n",
        "    x_test = x_data.iloc[test_indices]\n",
        "    y_test = y_data.iloc[test_indices]\n",
        "\n",
        "    model.fit(x_train, y_train)\n",
        "    y_pred = model.predict(x_test)\n",
        "\n",
        "    metrics['acc'].append(accuracy_score(y_test, y_pred))\n",
        "    metrics['pre'].append(recall_score(y_test, y_pred))\n",
        "    metrics['rec'].append(precision_score(y_test, y_pred))\n",
        "    metrics['f1'].append(f1_score(y_test, y_pred))\n",
        "\n",
        "  return metrics\n",
        "\n",
        "# Helper function to print the metrics data.\n",
        "def print_metrics(metrics):\n",
        "  print('Accuracy:', np.mean(metrics['acc']))\n",
        "  print('Precision:', np.mean(metrics['pre']))\n",
        "  print('Recall:', np.mean(metrics['rec']))\n",
        "  print('F1 Score:', np.mean(metrics['f1']))"
      ],
      "execution_count": null,
      "outputs": []
    },
    {
      "cell_type": "markdown",
      "metadata": {
        "id": "LyMXaPQHLHIZ"
      },
      "source": [
        "# Model prediction without any feature selection with 10 fold cross validation"
      ]
    },
    {
      "cell_type": "markdown",
      "metadata": {
        "id": "BTIdkeGcXKwS"
      },
      "source": [
        "## Naive Bayes"
      ]
    },
    {
      "cell_type": "code",
      "metadata": {
        "id": "j-gzcP-xZVjY"
      },
      "source": [
        "nb = GaussianNB()\n",
        "nb_metrics = perform_ten_fold_cv(nb, X, Y)"
      ],
      "execution_count": null,
      "outputs": []
    },
    {
      "cell_type": "code",
      "metadata": {
        "colab": {
          "base_uri": "https://localhost:8080/"
        },
        "id": "IN2LC9c8sO2C",
        "outputId": "4cab00e4-e1df-4b1a-f9eb-01bcb87f45c7"
      },
      "source": [
        "print_metrics(nb_metrics)"
      ],
      "execution_count": null,
      "outputs": [
        {
          "output_type": "stream",
          "text": [
            "Accuracy: 0.7663218390804598\n",
            "Precision: 0.47068681318681316\n",
            "Recall: 0.731547619047619\n",
            "F1 Score: 0.5528505756369533\n"
          ],
          "name": "stdout"
        }
      ]
    },
    {
      "cell_type": "markdown",
      "metadata": {
        "id": "q8QaG5p2XHJ2"
      },
      "source": [
        "## Logistic Regression"
      ]
    },
    {
      "cell_type": "code",
      "metadata": {
        "id": "uw4h7GrWtIde"
      },
      "source": [
        "lr = LogisticRegression()\n",
        "lr_metrics = perform_ten_fold_cv(lr, X, Y)"
      ],
      "execution_count": null,
      "outputs": []
    },
    {
      "cell_type": "code",
      "metadata": {
        "colab": {
          "base_uri": "https://localhost:8080/"
        },
        "id": "HIFXDXaU-maj",
        "outputId": "61a151b2-295c-4845-80b0-2e6e443593ad"
      },
      "source": [
        "print_metrics(lr_metrics)"
      ],
      "execution_count": null,
      "outputs": [
        {
          "output_type": "stream",
          "text": [
            "Accuracy: 0.8228735632183909\n",
            "Precision: 0.6813064713064713\n",
            "Recall: 0.746051171051171\n",
            "F1 Score: 0.6896440047590943\n"
          ],
          "name": "stdout"
        }
      ]
    },
    {
      "cell_type": "markdown",
      "metadata": {
        "id": "9DWR6vzfXOt_"
      },
      "source": [
        "## Decision Tree"
      ]
    },
    {
      "cell_type": "code",
      "metadata": {
        "id": "iA-Z5CWx_atx"
      },
      "source": [
        "dt = DecisionTreeClassifier()\n",
        "dt_metrics = perform_ten_fold_cv(dt, X, Y)"
      ],
      "execution_count": null,
      "outputs": []
    },
    {
      "cell_type": "code",
      "metadata": {
        "colab": {
          "base_uri": "https://localhost:8080/"
        },
        "id": "NYIO7IifCAp2",
        "outputId": "f4083852-d0b3-4b97-b445-a7e144b4a2a5"
      },
      "source": [
        "print_metrics(dt_metrics)"
      ],
      "execution_count": null,
      "outputs": [
        {
          "output_type": "stream",
          "text": [
            "Accuracy: 0.789655172413793\n",
            "Precision: 0.6835653235653236\n",
            "Recall: 0.6874891774891775\n",
            "F1 Score: 0.666005737655354\n"
          ],
          "name": "stdout"
        }
      ]
    },
    {
      "cell_type": "markdown",
      "metadata": {
        "id": "7y5V_NB8XhZb"
      },
      "source": [
        "## Random Forest"
      ]
    },
    {
      "cell_type": "code",
      "metadata": {
        "id": "nzkvCSp4CDan"
      },
      "source": [
        "rf = RandomForestClassifier()\n",
        "rf_metrics = perform_ten_fold_cv(rf, X, Y)"
      ],
      "execution_count": null,
      "outputs": []
    },
    {
      "cell_type": "code",
      "metadata": {
        "colab": {
          "base_uri": "https://localhost:8080/"
        },
        "id": "xlCR5JdLCQqY",
        "outputId": "812559f0-b6fb-4ec8-ff40-c94ef9ba2c33"
      },
      "source": [
        "print_metrics(rf_metrics)"
      ],
      "execution_count": null,
      "outputs": [
        {
          "output_type": "stream",
          "text": [
            "Accuracy: 0.853103448275862\n",
            "Precision: 0.7469200244200244\n",
            "Recall: 0.7922766122766123\n",
            "F1 Score: 0.7535646053293112\n"
          ],
          "name": "stdout"
        }
      ]
    },
    {
      "cell_type": "markdown",
      "metadata": {
        "id": "q5m_sgT_XjPN"
      },
      "source": [
        "## Support Vector Classifier"
      ]
    },
    {
      "cell_type": "code",
      "metadata": {
        "id": "dQEnNKsrCSxy"
      },
      "source": [
        "svc = SVC()\n",
        "svc_metrics = perform_ten_fold_cv(svc, X, Y)"
      ],
      "execution_count": null,
      "outputs": []
    },
    {
      "cell_type": "code",
      "metadata": {
        "colab": {
          "base_uri": "https://localhost:8080/"
        },
        "id": "O1foNDq-CiCI",
        "outputId": "60c4ccdd-d547-4885-d4c1-f25ad1e8bec8"
      },
      "source": [
        "print_metrics(svc_metrics)"
      ],
      "execution_count": null,
      "outputs": [
        {
          "output_type": "stream",
          "text": [
            "Accuracy: 0.8163218390804599\n",
            "Precision: 0.6759340659340658\n",
            "Recall: 0.7389971139971141\n",
            "F1 Score: 0.6897125719436933\n"
          ],
          "name": "stdout"
        }
      ]
    },
    {
      "cell_type": "markdown",
      "metadata": {
        "id": "_Y0R_tN-MQCb"
      },
      "source": [
        "# Model prediction with Exhaustive Feature Selection with 10 fold cross validation"
      ]
    },
    {
      "cell_type": "code",
      "metadata": {
        "id": "46nmXw95jwW2"
      },
      "source": [
        "def perform_exhaustive_feature_selection(model, x_data, y_data):\n",
        "  efs = ExhaustiveFeatureSelector(model, max_features=len(x_data.columns), scoring='accuracy')\n",
        "  efs.fit(x_data, y_data)\n",
        "  selected_features = list(x_data.columns[list(efs.best_idx_)])\n",
        "  print('\\nBest features using Exhaustive Feature Selection with F1 score:')\n",
        "  print(selected_features)\n",
        "  return selected_features"
      ],
      "execution_count": null,
      "outputs": []
    },
    {
      "cell_type": "markdown",
      "metadata": {
        "id": "eehtK4EaYsWK"
      },
      "source": [
        "## Naive Bayes"
      ]
    },
    {
      "cell_type": "code",
      "metadata": {
        "id": "R6fc0qdjC28X",
        "colab": {
          "base_uri": "https://localhost:8080/"
        },
        "outputId": "90ac1303-d1ef-44a1-afd2-26eba62bc767"
      },
      "source": [
        "nb = GaussianNB()\n",
        "\n",
        "# perform feature selection\n",
        "nb_selected_features = perform_exhaustive_feature_selection(nb, X, Y)"
      ],
      "execution_count": null,
      "outputs": [
        {
          "output_type": "stream",
          "text": [
            "Features: 4095/4095"
          ],
          "name": "stderr"
        },
        {
          "output_type": "stream",
          "text": [
            "\n",
            "Best features using Exhaustive Feature Selection with F1 score:\n",
            "['age', 'ejection_fraction', 'high_blood_pressure', 'serum_sodium', 'smoking', 'time']\n"
          ],
          "name": "stdout"
        }
      ]
    },
    {
      "cell_type": "code",
      "metadata": {
        "id": "xGELSPM4hVrW"
      },
      "source": [
        "# apply the model\n",
        "nb_metrics = perform_ten_fold_cv(nb, X[nb_selected_features], Y)"
      ],
      "execution_count": null,
      "outputs": []
    },
    {
      "cell_type": "code",
      "metadata": {
        "colab": {
          "base_uri": "https://localhost:8080/"
        },
        "id": "3lAKwzGeiVpa",
        "outputId": "2a252f5e-3da5-4f86-a023-d8d9606af409"
      },
      "source": [
        "print_metrics(nb_metrics)"
      ],
      "execution_count": null,
      "outputs": [
        {
          "output_type": "stream",
          "text": [
            "Accuracy: 0.829655172413793\n",
            "Precision: 0.6828266178266178\n",
            "Recall: 0.7523737373737374\n",
            "F1 Score: 0.7057040988505519\n"
          ],
          "name": "stdout"
        }
      ]
    },
    {
      "cell_type": "markdown",
      "metadata": {
        "id": "5GEpQUFAYvpu"
      },
      "source": [
        "## Logistic Regression"
      ]
    },
    {
      "cell_type": "code",
      "metadata": {
        "colab": {
          "base_uri": "https://localhost:8080/"
        },
        "id": "M0b9w6v6icBa",
        "outputId": "ceba4593-be47-4e06-a824-923a72897e58"
      },
      "source": [
        "lr = LogisticRegression()\n",
        "lr_selected_features = perform_exhaustive_feature_selection(lr, X, Y)"
      ],
      "execution_count": null,
      "outputs": [
        {
          "output_type": "stream",
          "text": [
            "Features: 4095/4095"
          ],
          "name": "stderr"
        },
        {
          "output_type": "stream",
          "text": [
            "\n",
            "Best features using Exhaustive Feature Selection with F1 score:\n",
            "['age', 'creatinine_phosphokinase', 'ejection_fraction', 'serum_creatinine', 'serum_sodium', 'sex', 'time']\n"
          ],
          "name": "stdout"
        }
      ]
    },
    {
      "cell_type": "code",
      "metadata": {
        "id": "yV72bbefii_8"
      },
      "source": [
        "# apply the model\n",
        "lr_metrics = perform_ten_fold_cv(lr, X[lr_selected_features], Y)"
      ],
      "execution_count": null,
      "outputs": []
    },
    {
      "cell_type": "code",
      "metadata": {
        "colab": {
          "base_uri": "https://localhost:8080/"
        },
        "id": "y7DuNT_3imny",
        "outputId": "288f2592-3ba5-46db-c464-4fc131495d75"
      },
      "source": [
        "print_metrics(lr_metrics)"
      ],
      "execution_count": null,
      "outputs": [
        {
          "output_type": "stream",
          "text": [
            "Accuracy: 0.829655172413793\n",
            "Precision: 0.694447496947497\n",
            "Recall: 0.7622222222222221\n",
            "F1 Score: 0.7046015876706414\n"
          ],
          "name": "stdout"
        }
      ]
    },
    {
      "cell_type": "markdown",
      "metadata": {
        "id": "FzPbXkhiYyEa"
      },
      "source": [
        "## Decision Tree"
      ]
    },
    {
      "cell_type": "code",
      "metadata": {
        "colab": {
          "base_uri": "https://localhost:8080/"
        },
        "id": "EWBfln2HjgLQ",
        "outputId": "06a8bb01-01f1-4ac0-aeb7-34787fadaea9"
      },
      "source": [
        "dt = DecisionTreeClassifier()\n",
        "dt_selected_features = perform_exhaustive_feature_selection(dt, X, Y)"
      ],
      "execution_count": null,
      "outputs": [
        {
          "output_type": "stream",
          "text": [
            "Features: 4095/4095"
          ],
          "name": "stderr"
        },
        {
          "output_type": "stream",
          "text": [
            "\n",
            "Best features using Exhaustive Feature Selection with F1 score:\n",
            "['diabetes', 'ejection_fraction', 'serum_creatinine', 'smoking']\n"
          ],
          "name": "stdout"
        }
      ]
    },
    {
      "cell_type": "code",
      "metadata": {
        "id": "p_TV2doClFc_"
      },
      "source": [
        "# apply the model\n",
        "dt_metrics = perform_ten_fold_cv(dt, X[dt_selected_features], Y)"
      ],
      "execution_count": null,
      "outputs": []
    },
    {
      "cell_type": "code",
      "metadata": {
        "colab": {
          "base_uri": "https://localhost:8080/"
        },
        "id": "NxfZUO6LlK_0",
        "outputId": "23a6ea9c-75ce-421d-94e5-c9e30061a9d8"
      },
      "source": [
        "print_metrics(dt_metrics)"
      ],
      "execution_count": null,
      "outputs": [
        {
          "output_type": "stream",
          "text": [
            "Accuracy: 0.7528735632183908\n",
            "Precision: 0.6167979242979242\n",
            "Recall: 0.6303654678654678\n",
            "F1 Score: 0.6032797251058122\n"
          ],
          "name": "stdout"
        }
      ]
    },
    {
      "cell_type": "markdown",
      "metadata": {
        "id": "nPGnt-KzY0Dc"
      },
      "source": [
        "## Random Forest"
      ]
    },
    {
      "cell_type": "code",
      "metadata": {
        "colab": {
          "base_uri": "https://localhost:8080/"
        },
        "id": "VPYeAfLlleAB",
        "outputId": "20ba6371-ec90-4383-bc9b-f837a8dd77d2"
      },
      "source": [
        "rf = RandomForestClassifier()\n",
        "rf_selected_features = perform_exhaustive_feature_selection(rf, X, Y)"
      ],
      "execution_count": null,
      "outputs": [
        {
          "output_type": "stream",
          "text": [
            "Features: 4095/4095"
          ],
          "name": "stderr"
        },
        {
          "output_type": "stream",
          "text": [
            "\n",
            "Best features using Exhaustive Feature Selection with F1 score:\n",
            "['creatinine_phosphokinase', 'diabetes', 'serum_creatinine', 'serum_sodium', 'sex']\n"
          ],
          "name": "stdout"
        }
      ]
    },
    {
      "cell_type": "code",
      "metadata": {
        "id": "XAofUoUAlmG0"
      },
      "source": [
        "rf_metrics = perform_ten_fold_cv(rf, X[rf_selected_features], Y)"
      ],
      "execution_count": null,
      "outputs": []
    },
    {
      "cell_type": "code",
      "metadata": {
        "colab": {
          "base_uri": "https://localhost:8080/"
        },
        "id": "0AP0gruMl_Yx",
        "outputId": "cd6187ec-2752-4036-b43d-bd09821ac29e"
      },
      "source": [
        "print_metrics(rf_metrics)"
      ],
      "execution_count": null,
      "outputs": [
        {
          "output_type": "stream",
          "text": [
            "Accuracy: 0.7562068965517241\n",
            "Precision: 0.4968315018315018\n",
            "Recall: 0.695595238095238\n",
            "F1 Score: 0.5576920087136805\n"
          ],
          "name": "stdout"
        }
      ]
    },
    {
      "cell_type": "markdown",
      "metadata": {
        "id": "rMaQte85Y1x6"
      },
      "source": [
        "## Support Vector Classifier"
      ]
    },
    {
      "cell_type": "code",
      "metadata": {
        "colab": {
          "base_uri": "https://localhost:8080/"
        },
        "id": "77sf9T1KmMKF",
        "outputId": "69a147c2-73bd-40dc-da96-959dd2045a42"
      },
      "source": [
        "svc = SVC()\n",
        "svc_selected_features = perform_exhaustive_feature_selection(svc, X, Y)"
      ],
      "execution_count": null,
      "outputs": [
        {
          "output_type": "stream",
          "text": [
            "Features: 4095/4095"
          ],
          "name": "stderr"
        },
        {
          "output_type": "stream",
          "text": [
            "\n",
            "Best features using Exhaustive Feature Selection with F1 score:\n",
            "['anaemia', 'diabetes', 'ejection_fraction', 'high_blood_pressure', 'serum_creatinine', 'smoking', 'time']\n"
          ],
          "name": "stdout"
        }
      ]
    },
    {
      "cell_type": "code",
      "metadata": {
        "id": "Gk_aLXwtmU4g"
      },
      "source": [
        "svc_metrics = perform_ten_fold_cv(svc, X[svc_selected_features], Y)"
      ],
      "execution_count": null,
      "outputs": []
    },
    {
      "cell_type": "code",
      "metadata": {
        "colab": {
          "base_uri": "https://localhost:8080/"
        },
        "id": "0hpddMzJmZQ9",
        "outputId": "8e991fac-960b-40f6-abb1-fb7198746c15"
      },
      "source": [
        "print_metrics(svc_metrics)"
      ],
      "execution_count": null,
      "outputs": [
        {
          "output_type": "stream",
          "text": [
            "Accuracy: 0.8364367816091954\n",
            "Precision: 0.7401343101343102\n",
            "Recall: 0.7512626262626263\n",
            "F1 Score: 0.7315795315795315\n"
          ],
          "name": "stdout"
        }
      ]
    },
    {
      "cell_type": "markdown",
      "metadata": {
        "id": "twXAotmnM1DU"
      },
      "source": [
        "# Model prediction with Backward Feature Elimination with 10 fold cross validation"
      ]
    },
    {
      "cell_type": "code",
      "metadata": {
        "id": "yIweO9xhnzt7"
      },
      "source": [
        "def perform_sequential_feature_selector(model, x_data, y_data):\n",
        "  sbs = SequentialFeatureSelector(nb, k_features='best', forward=False, floating=False, scoring='accuracy')\n",
        "  sbs.fit(x_data.to_numpy(), y_data.to_numpy())\n",
        "\n",
        "  selected_features = list(x_data.columns[list(sbs.k_feature_idx_)])\n",
        "  print('\\nBest features using Exhaustive Feature Selection with F1 score:')\n",
        "  print(selected_features)\n",
        "  return selected_features"
      ],
      "execution_count": null,
      "outputs": []
    },
    {
      "cell_type": "markdown",
      "metadata": {
        "id": "SHPHgh0nY9W0"
      },
      "source": [
        "## Naive Bayes"
      ]
    },
    {
      "cell_type": "code",
      "metadata": {
        "id": "DaBYgjMuC7DY",
        "colab": {
          "base_uri": "https://localhost:8080/"
        },
        "outputId": "01608192-8ac0-4530-a2ad-fe757eb8087f"
      },
      "source": [
        "nb = GaussianNB()\n",
        "nb_sf = perform_sequential_feature_selector(nb, X, Y)"
      ],
      "execution_count": null,
      "outputs": [
        {
          "output_type": "stream",
          "text": [
            "\n",
            "Best features using Exhaustive Feature Selection with F1 score:\n",
            "['age', 'ejection_fraction', 'time']\n"
          ],
          "name": "stdout"
        }
      ]
    },
    {
      "cell_type": "code",
      "metadata": {
        "id": "vohGQ2r7cuiT"
      },
      "source": [
        "nb_metrics = perform_ten_fold_cv(nb, X[nb_sf], Y)"
      ],
      "execution_count": null,
      "outputs": []
    },
    {
      "cell_type": "code",
      "metadata": {
        "colab": {
          "base_uri": "https://localhost:8080/"
        },
        "id": "-6P2yr2U46Vx",
        "outputId": "6cd902b2-452b-48b2-af05-1cfacafb1163"
      },
      "source": [
        "print_metrics(nb_metrics)"
      ],
      "execution_count": null,
      "outputs": [
        {
          "output_type": "stream",
          "text": [
            "Accuracy: 0.8463218390804599\n",
            "Precision: 0.7083302808302808\n",
            "Recall: 0.7804473304473305\n",
            "F1 Score: 0.7346872171814962\n"
          ],
          "name": "stdout"
        }
      ]
    },
    {
      "cell_type": "markdown",
      "metadata": {
        "id": "fJkCOt-EZD-3"
      },
      "source": [
        "## Logistic Regression"
      ]
    },
    {
      "cell_type": "code",
      "metadata": {
        "colab": {
          "base_uri": "https://localhost:8080/"
        },
        "id": "PDAyOZ_75EG7",
        "outputId": "ad0a170d-bf7c-42e0-ac31-5ed6cd4426d8"
      },
      "source": [
        "lr = LogisticRegression()\n",
        "lr_sf = perform_sequential_feature_selector(lr, X, Y)"
      ],
      "execution_count": null,
      "outputs": [
        {
          "output_type": "stream",
          "text": [
            "\n",
            "Best features using Exhaustive Feature Selection with F1 score:\n",
            "['age', 'ejection_fraction', 'time']\n"
          ],
          "name": "stdout"
        }
      ]
    },
    {
      "cell_type": "code",
      "metadata": {
        "id": "76jD2Zik5KPO"
      },
      "source": [
        "lr_metrics = perform_ten_fold_cv(lr, X[lr_sf], Y)"
      ],
      "execution_count": null,
      "outputs": []
    },
    {
      "cell_type": "code",
      "metadata": {
        "colab": {
          "base_uri": "https://localhost:8080/"
        },
        "id": "r0AZ8TdV5S1Q",
        "outputId": "585bcb64-60f1-4997-8392-581ea3d4af3c"
      },
      "source": [
        "print_metrics(lr_metrics)"
      ],
      "execution_count": null,
      "outputs": [
        {
          "output_type": "stream",
          "text": [
            "Accuracy: 0.8262068965517242\n",
            "Precision: 0.655399877899878\n",
            "Recall: 0.7436075036075036\n",
            "F1 Score: 0.6895198883242362\n"
          ],
          "name": "stdout"
        }
      ]
    },
    {
      "cell_type": "markdown",
      "metadata": {
        "id": "DaMTQsbEZEye"
      },
      "source": [
        "## Decision Tree"
      ]
    },
    {
      "cell_type": "code",
      "metadata": {
        "colab": {
          "base_uri": "https://localhost:8080/"
        },
        "id": "SwNizYr75VlW",
        "outputId": "a55fa811-c32c-4885-f467-0eab0696f702"
      },
      "source": [
        "dt = DecisionTreeClassifier()\n",
        "dt_sf = perform_sequential_feature_selector(lr, X, Y)"
      ],
      "execution_count": null,
      "outputs": [
        {
          "output_type": "stream",
          "text": [
            "\n",
            "Best features using Exhaustive Feature Selection with F1 score:\n",
            "['age', 'ejection_fraction', 'time']\n"
          ],
          "name": "stdout"
        }
      ]
    },
    {
      "cell_type": "code",
      "metadata": {
        "id": "CZLqo4Cl5kIP"
      },
      "source": [
        "dt_metrics = perform_ten_fold_cv(dt, X[dt_sf], Y)"
      ],
      "execution_count": null,
      "outputs": []
    },
    {
      "cell_type": "code",
      "metadata": {
        "colab": {
          "base_uri": "https://localhost:8080/"
        },
        "id": "tcg4yYpC5rkx",
        "outputId": "c4cd8131-8637-4775-fadd-f2a284378020"
      },
      "source": [
        "print_metrics(dt_metrics)"
      ],
      "execution_count": null,
      "outputs": [
        {
          "output_type": "stream",
          "text": [
            "Accuracy: 0.7995402298850575\n",
            "Precision: 0.7306043956043956\n",
            "Recall: 0.6689998889998889\n",
            "F1 Score: 0.6867975437314514\n"
          ],
          "name": "stdout"
        }
      ]
    },
    {
      "cell_type": "markdown",
      "metadata": {
        "id": "zRJrbej_ZGU5"
      },
      "source": [
        "## Random Forest"
      ]
    },
    {
      "cell_type": "code",
      "metadata": {
        "colab": {
          "base_uri": "https://localhost:8080/"
        },
        "id": "d_5rurLK5t7y",
        "outputId": "2433dcd6-ff29-44fb-88e2-a9ee3c4b6749"
      },
      "source": [
        "rf = RandomForestClassifier()\n",
        "rf_sf = perform_sequential_feature_selector(rf, X, Y)"
      ],
      "execution_count": null,
      "outputs": [
        {
          "output_type": "stream",
          "text": [
            "\n",
            "Best features using Exhaustive Feature Selection with F1 score:\n",
            "['age', 'ejection_fraction', 'time']\n"
          ],
          "name": "stdout"
        }
      ]
    },
    {
      "cell_type": "code",
      "metadata": {
        "id": "KlWxL6BS50Yc"
      },
      "source": [
        "rf_metrics = perform_ten_fold_cv(rf, X[rf_sf], Y)"
      ],
      "execution_count": null,
      "outputs": []
    },
    {
      "cell_type": "code",
      "metadata": {
        "colab": {
          "base_uri": "https://localhost:8080/"
        },
        "id": "pFbFo3JI58nt",
        "outputId": "38d78c4a-c7de-4c8d-9ccc-c043b0a32eba"
      },
      "source": [
        "print_metrics(rf_metrics)"
      ],
      "execution_count": null,
      "outputs": [
        {
          "output_type": "stream",
          "text": [
            "Accuracy: 0.8364367816091954\n",
            "Precision: 0.7266422466422466\n",
            "Recall: 0.7666883116883116\n",
            "F1 Score: 0.73310088888094\n"
          ],
          "name": "stdout"
        }
      ]
    },
    {
      "cell_type": "markdown",
      "metadata": {
        "id": "2MvPLcMuZHq4"
      },
      "source": [
        "## Support Vector Classifier"
      ]
    },
    {
      "cell_type": "code",
      "metadata": {
        "colab": {
          "base_uri": "https://localhost:8080/"
        },
        "id": "Kfmw9IMm6AsD",
        "outputId": "bf4c26e8-2a2a-4c59-bbfc-23b0de638520"
      },
      "source": [
        "svc = SVC()\n",
        "svc_sf = perform_sequential_feature_selector(svc, X, Y)"
      ],
      "execution_count": null,
      "outputs": [
        {
          "output_type": "stream",
          "text": [
            "\n",
            "Best features using Exhaustive Feature Selection with F1 score:\n",
            "['age', 'ejection_fraction', 'time']\n"
          ],
          "name": "stdout"
        }
      ]
    },
    {
      "cell_type": "code",
      "metadata": {
        "id": "MgrfiPkn6GKD"
      },
      "source": [
        "svc_metrics = perform_ten_fold_cv(svc, X[svc_sf], Y)"
      ],
      "execution_count": null,
      "outputs": []
    },
    {
      "cell_type": "code",
      "metadata": {
        "colab": {
          "base_uri": "https://localhost:8080/"
        },
        "id": "xqTmLjxe6OMg",
        "outputId": "14f95ce2-9bd6-473e-a5c6-797f3cf5e89d"
      },
      "source": [
        "print_metrics(svc_metrics)"
      ],
      "execution_count": null,
      "outputs": [
        {
          "output_type": "stream",
          "text": [
            "Accuracy: 0.8429885057471264\n",
            "Precision: 0.6846123321123321\n",
            "Recall: 0.7878066378066378\n",
            "F1 Score: 0.7219116632160111\n"
          ],
          "name": "stdout"
        }
      ]
    },
    {
      "cell_type": "code",
      "metadata": {
        "id": "-a9F7w5S7tOV"
      },
      "source": [
        ""
      ],
      "execution_count": null,
      "outputs": []
    }
  ]
}